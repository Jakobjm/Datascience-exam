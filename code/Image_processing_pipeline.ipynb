{
 "cells": [
  {
   "cell_type": "code",
   "execution_count": 22,
   "id": "392ec1ea",
   "metadata": {},
   "outputs": [],
   "source": [
    "\n",
    "#%pip install rasterio matplotlib shapely geopandas albumentations\n",
    "#%pip install torch torchvision torchgeo  --index-url https://download.pytorch.org/whl/cu121\n",
    "# Import necessary libraries\n",
    "\n",
    "import geopandas as gpd\n",
    "import rasterio\n",
    "from rasterio.mask import mask\n",
    "from shapely.geometry import Point, box\n",
    "from PIL import Image, ImageDraw\n",
    "import numpy as np\n",
    "import os\n",
    "import matplotlib.pyplot as plt\n",
    "import albumentations as A\n",
    "import random"
   ]
  },
  {
   "cell_type": "code",
   "execution_count": 4,
   "id": "f4ca1a1e",
   "metadata": {},
   "outputs": [
    {
     "name": "stdout",
     "output_type": "stream",
     "text": [
      "Image shape: (4, 18915, 17829)\n"
     ]
    }
   ],
   "source": [
    "dataset = rasterio.open(\"../data/Kazcrop_merged.tif\")\n",
    "# Read the image data\n",
    "\n",
    "# Read all bands into a (bands, height, width) numpy array\n",
    "image = dataset.read()  # Shape: (4, height, width)\n",
    "print(\"Image shape:\", image.shape)"
   ]
  },
  {
   "cell_type": "code",
   "execution_count": 5,
   "id": "d7f55f59",
   "metadata": {},
   "outputs": [
    {
     "name": "stdout",
     "output_type": "stream",
     "text": [
      "4\n"
     ]
    }
   ],
   "source": [
    "def normalize_image_bands(image_array):\n",
    "    normalized_image = image_array.astype(np.float32)\n",
    "    for band_index in range(normalized_image.shape[0]):\n",
    "        band = normalized_image[band_index]\n",
    "        min_value = np.min(band)\n",
    "        max_value = np.max(band)\n",
    "        if max_value > min_value:  # Avoid division by zero\n",
    "            normalized_image[band_index] = (band - min_value) / (max_value - min_value)\n",
    "        else:\n",
    "            normalized_image[band_index] = 0  # or some fallback\n",
    "    return normalized_image\n",
    "\n",
    "normalized_image = normalize_image_bands(image)\n",
    "print(normalized_image.shape[0])"
   ]
  },
  {
   "cell_type": "code",
   "execution_count": 9,
   "id": "949ce4cd",
   "metadata": {},
   "outputs": [
    {
     "data": {
      "image/png": "[encoded data removed]",
      "text/plain": [
       "<Figure size 640x480 with 1 Axes>"
      ]
     },
     "metadata": {},
     "output_type": "display_data"
    }
   ],
   "source": [
    "# Sliding window generator to extract patches from the image\n",
    "def sliding_window_generator(image_array, window_size, stride):\n",
    "    \"\"\"\n",
    "    Yield patches of shape (channels, height, width) from a 3D image tensor.\n",
    "    \"\"\"\n",
    "    channels, height, width = image_array.shape\n",
    "    window_height, window_width = window_size\n",
    "\n",
    "    for y_start in range(0, height - window_height + 1, stride):\n",
    "        for x_start in range(0, width - window_width + 1, stride):\n",
    "            patch = image_array[:, y_start:y_start + window_height, x_start:x_start + window_width]\n",
    "            yield patch, (x_start, y_start)\n",
    "\n",
    "\n",
    "# Example usage of the sliding window generator\n",
    "patch_window_size = (150, 150)  # Size of the patches\n",
    "patch_stride = 75  # Stride for the sliding window\n",
    "\n",
    "patches = list(sliding_window_generator(normalized_image, patch_window_size, patch_stride))\n",
    "\n",
    "for index in range(1):\n",
    "    patch, (x_offset, y_offset) = patches[index]\n",
    "    rgb_patch = patch[[2, 1, 0]]  # Red, Green, Blue bands\n",
    "    rgb_patch = np.transpose(rgb_patch, (1, 2, 0))  # Change to (height, width, channels)\n",
    "    plt.imshow(rgb_patch)\n",
    "    plt.title(f\"Patch at (x={x_offset}, y={y_offset})\")\n",
    "    plt.show()"
   ]
  },
  {
   "cell_type": "code",
   "execution_count": 10,
   "id": "10391940",
   "metadata": {},
   "outputs": [
    {
     "name": "stdout",
     "output_type": "stream",
     "text": [
      "True\n",
      "NVIDIA GeForce RTX 3070\n"
     ]
    }
   ],
   "source": [
    "import torch\n",
    "print(torch.cuda.is_available())\n",
    "print(torch.cuda.get_device_name(0))\n"
   ]
  },
  {
   "cell_type": "code",
   "execution_count": 20,
   "id": "2ecb0225",
   "metadata": {},
   "outputs": [
    {
     "name": "stdout",
     "output_type": "stream",
     "text": [
      "✅ Image patches and masks saved with augmentations.\n"
     ]
    }
   ],
   "source": [
    "# Load GeoJSON with 'geometry', 'center_x', 'center_y', 'max_dim'\n",
    "gdf = gpd.read_file(\"../data/bounding_boxes.geojson\")\n",
    "\n",
    "# Open raster\n",
    "src = rasterio.open(\"../data/Kazcrop_merged.tif\")\n",
    "\n",
    "# Output dirs\n",
    "os.makedirs(\"patches/images\", exist_ok=True)\n",
    "os.makedirs(\"patches/masks\", exist_ok=True)\n",
    "\n",
    "# Augmentations to apply to both image and mask\n",
    "augment = A.Compose([\n",
    "    A.HorizontalFlip(p=0.5),\n",
    "    A.VerticalFlip(p=0.5),\n",
    "    A.RandomRotate90(p=0.5),\n",
    "], additional_targets={\"mask\": \"mask\"})\n",
    "\n",
    "for idx, row in gdf.iterrows():\n",
    "    bbox_geom = row.geometry\n",
    "    center_x, center_y = row[\"center_x\"], row[\"center_y\"]\n",
    "    diameter = row[\"max_dim\"]  # In meters = pixels\n",
    "\n",
    "    # Crop patch from raster\n",
    "    patch_img, patch_transform = mask(src, [bbox_geom], crop=True)\n",
    "    patch_img = np.moveaxis(patch_img, 0, -1)  # Channels last (H, W, C)\n",
    "\n",
    "    # Get patch dimensions\n",
    "    h, w = patch_img.shape[:2]\n",
    "\n",
    "    # Convert center point to pixel coordinates and add jitter to diameter\n",
    "    x_px, y_px = (~patch_transform) * (center_x, center_y)\n",
    "    x_px, y_px = int(x_px), int(y_px)\n",
    "    jitter_factor = random.uniform(0.9, 1.1)\n",
    "    jittered_diameter = diameter * jitter_factor\n",
    "    r = int(jittered_diameter / 2)\n",
    "\n",
    "    # Create binary mask\n",
    "    mask_img = Image.new(\"L\", (w, h), 0)\n",
    "    draw = ImageDraw.Draw(mask_img)\n",
    "    draw.ellipse([x_px - r, y_px - r, x_px + r, y_px + r], fill=1)\n",
    "    mask_array = np.array(mask_img, dtype=np.uint8)\n",
    "\n",
    "    # Apply augmentation\n",
    "    augmented = augment(image=patch_img, mask=mask_array)\n",
    "    patch_img_aug = augmented[\"image\"]\n",
    "    mask_aug = augmented[\"mask\"]\n",
    "\n",
    "    # Save as .npy\n",
    "    np.save(f\"patches/images/patch_{idx}.npy\", patch_img_aug)\n",
    "    np.save(f\"patches/masks/mask_{idx}.npy\", mask_aug)\n",
    "\n",
    "print(\"✅ Image patches and masks saved with augmentations.\")"
   ]
  },
  {
   "cell_type": "code",
   "execution_count": 23,
   "id": "3b5a37d4",
   "metadata": {},
   "outputs": [
    {
     "name": "stdout",
     "output_type": "stream",
     "text": [
      "Processing size bucket: large\n",
      "Processing size bucket: medium\n",
      "Processing size bucket: small\n"
     ]
    }
   ],
   "source": [
    "# Load data\n",
    "gdf = gpd.read_file(\"../data/bounding_boxes.geojson\")\n",
    "src = rasterio.open(\"../data/Kazcrop_merged.tif\")\n",
    "\n",
    "# Output dirs\n",
    "os.makedirs(\"patches\", exist_ok=True)\n",
    "os.makedirs(\"masks\", exist_ok=True)\n",
    "\n",
    "# Group by size_bucket\n",
    "for bucket_size, group in gdf.groupby(\"size_bucket\"):\n",
    "    print(f\"Processing size bucket: {bucket_size}\")\n",
    "\n",
    "    # Use the median buffer from the group as patch half-size\n",
    "    patch_half = int(group[\"buffer\"].median())\n",
    "\n",
    "    # Avoid overlap with positive areas\n",
    "    feature_union = group.buffer(10).geometry.union_all()\n",
    "\n",
    "    # Raster bounds\n",
    "    minx, miny, maxx, maxy = src.bounds\n",
    "\n",
    "    # === POSITIVE PATCHES ===\n",
    "    for idx, row in group.iterrows():\n",
    "        bbox_geom = row.geometry\n",
    "        center_x, center_y = row[\"center_x\"], row[\"center_y\"]\n",
    "        diameter = row[\"max_dim\"]\n",
    "\n",
    "        try:\n",
    "            patch_img, patch_transform = mask(src, [bbox_geom], crop=True)\n",
    "        except Exception as e:\n",
    "            print(f\"Skipping idx {idx} due to error: {e}\")\n",
    "            continue\n",
    "\n",
    "        patch_img = np.moveaxis(patch_img, 0, -1)\n",
    "        patch_img = np.nan_to_num(patch_img, nan=0)\n",
    "        patch_img = np.clip(patch_img, 0, 255).astype(np.uint8)\n",
    "\n",
    "        # Save image\n",
    "        Image.fromarray(patch_img).save(f\"patches/pos_patch_{bucket_size}_{idx}.tif\")\n",
    "\n",
    "        # Convert center to pixel coordinates\n",
    "        x_px, y_px = (~patch_transform) * (center_x, center_y)\n",
    "        x_px, y_px = int(x_px), int(y_px)\n",
    "\n",
    "        # Jittered radius\n",
    "        jitter = random.uniform(-0.1, 0.1) * diameter\n",
    "        r = int((diameter + jitter) / 2)\n",
    "\n",
    "        # Create mask\n",
    "        h, w = patch_img.shape[:2]\n",
    "        mask_img = Image.new(\"L\", (w, h), 0)\n",
    "        draw = ImageDraw.Draw(mask_img)\n",
    "        draw.ellipse([x_px - r, y_px - r, x_px + r, y_px + r], fill=255)\n",
    "        mask_img.save(f\"masks/pos_mask_{bucket_size}_{idx}.tif\")\n",
    "\n",
    "    # === NEGATIVE PATCHES ===\n",
    "    num_negatives = len(group) * 2\n",
    "    for i in range(num_negatives):\n",
    "        attempts = 0\n",
    "        while True:\n",
    "            attempts += 1\n",
    "            x = random.uniform(minx + patch_half, maxx - patch_half)\n",
    "            y = random.uniform(miny + patch_half, maxy - patch_half)\n",
    "            patch_bbox = box(x - patch_half, y - patch_half, x + patch_half, y + patch_half)\n",
    "\n",
    "            if not patch_bbox.intersects(feature_union):\n",
    "                break\n",
    "            if attempts > 1000:\n",
    "                print(\"Warning: couldn't find non-overlapping patch.\")\n",
    "                break\n",
    "\n",
    "        try:\n",
    "            patch_img, _ = mask(src, [patch_bbox], crop=True)\n",
    "        except Exception as e:\n",
    "            print(f\"Skipping negative patch {i} due to error: {e}\")\n",
    "            continue\n",
    "\n",
    "        patch_img = np.moveaxis(patch_img, 0, -1)\n",
    "        patch_img = np.nan_to_num(patch_img, nan=0)\n",
    "        patch_img = np.clip(patch_img, 0, 255).astype(np.uint8)\n",
    "\n",
    "        Image.fromarray(patch_img).save(f\"patches/neg_patch_{bucket_size}_{i}.tif\")\n",
    "\n",
    "        h, w = patch_img.shape[:2]\n",
    "        mask_img = Image.new(\"L\", (w, h), 0)\n",
    "        mask_img.save(f\"masks/neg_mask_{bucket_size}_{i}.tif\")"
   ]
  }
 ],
 "metadata": {
  "kernelspec": {
   "display_name": "ml_env",
   "language": "python",
   "name": "python3"
  },
  "language_info": {
   "codemirror_mode": {
    "name": "ipython",
    "version": 3
   },
   "file_extension": ".py",
   "mimetype": "text/x-python",
   "name": "python",
   "nbconvert_exporter": "python",
   "pygments_lexer": "ipython3",
   "version": "3.13.3"
  }
 },
 "nbformat": 4,
 "nbformat_minor": 5
}
